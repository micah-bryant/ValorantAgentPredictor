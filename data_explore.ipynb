{
 "cells": [
  {
   "attachments": {},
   "cell_type": "markdown",
   "metadata": {},
   "source": [
    "Goals of Data Analysis:\n",
    "1. Determine popular team compositions\n",
    "    * Analyze by map, episode_act tuple\n",
    "    * Determine how many\n",
    "        * Controllers\n",
    "        * Initiators\n",
    "        * Duelists\n",
    "        * Sentinels\n",
    "2. Analyze popular characters for each role on each map"
   ]
  },
  {
   "cell_type": "code",
   "execution_count": 1,
   "metadata": {},
   "outputs": [],
   "source": [
    "import pandas as pd\n",
    "import numpy as np\n",
    "from pprint import pprint\n",
    "\n",
    "# Local Imports\n",
    "from data_loader import DataPipeline\n",
    "from util import load_yaml"
   ]
  },
  {
   "cell_type": "code",
   "execution_count": 18,
   "metadata": {},
   "outputs": [
    {
     "name": "stdout",
     "output_type": "stream",
     "text": [
      "20\n"
     ]
    }
   ],
   "source": [
    "config = load_yaml(\"config.yml\")\n",
    "agent_to_role = {\n",
    "    'Raze': 'Duelist',\n",
    "    'Jett': 'Duelist',\n",
    "    'Phoenix': 'Duelist',\n",
    "    'Yoru': 'Duelist',\n",
    "    'Neon': 'Duelist',\n",
    "    'Sage': 'Sentinel',\n",
    "    'Omen': 'Controller',\n",
    "    'Skye': 'Initiator',\n",
    "    'Reyna': 'Duelist',\n",
    "    'Killjoy': 'Sentinel',\n",
    "    'Cypher': 'Sentinel',\n",
    "    'Astra': 'Controller',\n",
    "    'Breach': 'Initiator',\n",
    "    'Brimstone': 'Controller',\n",
    "    'KAY/O': 'Initiator',\n",
    "    'Fade': 'Initiator',\n",
    "    'Chamber': 'Sentinel',\n",
    "    'Viper': 'Controller',\n",
    "    'Sova': 'Initiator',\n",
    "    'Harbor': 'Controller',\n",
    "}"
   ]
  },
  {
   "cell_type": "code",
   "execution_count": 16,
   "metadata": {},
   "outputs": [
    {
     "name": "stdout",
     "output_type": "stream",
     "text": [
      "DataPipeline::load_csv -- file /Users/micahbryant/PythonProjects/ValorantAgentPredictor/Agents/Agents_rank25_episode6_act1_mapbreeze.csv does not exist\n",
      "DataPipeline::load_csv -- file /Users/micahbryant/PythonProjects/ValorantAgentPredictor/Agents/Agents_rank25_episode6_act1_mapbind.csv does not exist\n",
      "DataPipeline::load_csv -- file /Users/micahbryant/PythonProjects/ValorantAgentPredictor/Agents/Agents_rank25_episode6_act2_mapbreeze.csv does not exist\n",
      "DataPipeline::load_csv -- file /Users/micahbryant/PythonProjects/ValorantAgentPredictor/Agents/Agents_rank25_episode6_act2_mapbind.csv does not exist\n",
      "DataPipeline::load_csv -- file /Users/micahbryant/PythonProjects/ValorantAgentPredictor/Agents/Agents_rank25_episode6_act3_mapicebox.csv does not exist\n",
      "DataPipeline::load_csv -- file /Users/micahbryant/PythonProjects/ValorantAgentPredictor/Agents/Agents_rank25_episode6_act3_mapbreeze.csv does not exist\n",
      "DataPipeline::load_csv -- file /Users/micahbryant/PythonProjects/ValorantAgentPredictor/Agents/Agents_rank25_episode7_act1_mapicebox.csv does not exist\n",
      "DataPipeline::load_csv -- file /Users/micahbryant/PythonProjects/ValorantAgentPredictor/Agents/Agents_rank25_episode7_act1_mapbreeze.csv does not exist\n",
      "DataPipeline::load_csv -- file /Users/micahbryant/PythonProjects/ValorantAgentPredictor/Agents/Agents_rank25_episode7_act2_mapsplit.csv does not exist\n",
      "DataPipeline::load_csv -- file /Users/micahbryant/PythonProjects/ValorantAgentPredictor/Agents/Agents_rank25_episode7_act2_mapascent.csv does not exist\n",
      "DataPipeline::load_csv -- file /Users/micahbryant/PythonProjects/ValorantAgentPredictor/Agents/Agents_rank25_episode7_act2_maphaven.csv does not exist\n",
      "DataPipeline::load_csv -- file /Users/micahbryant/PythonProjects/ValorantAgentPredictor/Agents/Agents_rank25_episode7_act2_mapicebox.csv does not exist\n",
      "DataPipeline::load_csv -- file /Users/micahbryant/PythonProjects/ValorantAgentPredictor/Agents/Agents_rank25_episode7_act2_mapbreeze.csv does not exist\n",
      "DataPipeline::load_csv -- file /Users/micahbryant/PythonProjects/ValorantAgentPredictor/Agents/Agents_rank25_episode7_act2_mapbind.csv does not exist\n",
      "DataPipeline::load_csv -- file /Users/micahbryant/PythonProjects/ValorantAgentPredictor/Agents/Agents_rank25_episode7_act2_mapfracture.csv does not exist\n",
      "DataPipeline::load_csv -- file /Users/micahbryant/PythonProjects/ValorantAgentPredictor/Agents/Agents_rank25_episode7_act2_mappearl.csv does not exist\n",
      "DataPipeline::load_csv -- file /Users/micahbryant/PythonProjects/ValorantAgentPredictor/Agents/Agents_rank25_episode7_act2_maplotus.csv does not exist\n",
      "DataPipeline::load_csv -- file /Users/micahbryant/PythonProjects/ValorantAgentPredictor/Agents/Agents_rank25_episode7_act3_mapsplit.csv does not exist\n",
      "DataPipeline::load_csv -- file /Users/micahbryant/PythonProjects/ValorantAgentPredictor/Agents/Agents_rank25_episode7_act3_mapascent.csv does not exist\n",
      "DataPipeline::load_csv -- file /Users/micahbryant/PythonProjects/ValorantAgentPredictor/Agents/Agents_rank25_episode7_act3_maphaven.csv does not exist\n",
      "DataPipeline::load_csv -- file /Users/micahbryant/PythonProjects/ValorantAgentPredictor/Agents/Agents_rank25_episode7_act3_mapicebox.csv does not exist\n",
      "DataPipeline::load_csv -- file /Users/micahbryant/PythonProjects/ValorantAgentPredictor/Agents/Agents_rank25_episode7_act3_mapbreeze.csv does not exist\n",
      "DataPipeline::load_csv -- file /Users/micahbryant/PythonProjects/ValorantAgentPredictor/Agents/Agents_rank25_episode7_act3_mapbind.csv does not exist\n",
      "DataPipeline::load_csv -- file /Users/micahbryant/PythonProjects/ValorantAgentPredictor/Agents/Agents_rank25_episode7_act3_mapfracture.csv does not exist\n",
      "DataPipeline::load_csv -- file /Users/micahbryant/PythonProjects/ValorantAgentPredictor/Agents/Agents_rank25_episode7_act3_mappearl.csv does not exist\n",
      "DataPipeline::load_csv -- file /Users/micahbryant/PythonProjects/ValorantAgentPredictor/Agents/Agents_rank25_episode7_act3_maplotus.csv does not exist\n",
      "DataPipeline::load_csv -- file /Users/micahbryant/PythonProjects/ValorantAgentPredictor/Agents/Agents_rank26_episode6_act1_mapbreeze.csv does not exist\n",
      "DataPipeline::load_csv -- file /Users/micahbryant/PythonProjects/ValorantAgentPredictor/Agents/Agents_rank26_episode6_act1_mapbind.csv does not exist\n",
      "DataPipeline::load_csv -- file /Users/micahbryant/PythonProjects/ValorantAgentPredictor/Agents/Agents_rank26_episode6_act2_mapbreeze.csv does not exist\n",
      "DataPipeline::load_csv -- file /Users/micahbryant/PythonProjects/ValorantAgentPredictor/Agents/Agents_rank26_episode6_act2_mapbind.csv does not exist\n",
      "DataPipeline::load_csv -- file /Users/micahbryant/PythonProjects/ValorantAgentPredictor/Agents/Agents_rank26_episode6_act3_mapicebox.csv does not exist\n",
      "DataPipeline::load_csv -- file /Users/micahbryant/PythonProjects/ValorantAgentPredictor/Agents/Agents_rank26_episode6_act3_mapbreeze.csv does not exist\n",
      "DataPipeline::load_csv -- file /Users/micahbryant/PythonProjects/ValorantAgentPredictor/Agents/Agents_rank26_episode7_act1_mapicebox.csv does not exist\n",
      "DataPipeline::load_csv -- file /Users/micahbryant/PythonProjects/ValorantAgentPredictor/Agents/Agents_rank26_episode7_act1_mapbreeze.csv does not exist\n",
      "DataPipeline::load_csv -- file /Users/micahbryant/PythonProjects/ValorantAgentPredictor/Agents/Agents_rank26_episode7_act2_mapsplit.csv does not exist\n",
      "DataPipeline::load_csv -- file /Users/micahbryant/PythonProjects/ValorantAgentPredictor/Agents/Agents_rank26_episode7_act2_mapascent.csv does not exist\n",
      "DataPipeline::load_csv -- file /Users/micahbryant/PythonProjects/ValorantAgentPredictor/Agents/Agents_rank26_episode7_act2_maphaven.csv does not exist\n",
      "DataPipeline::load_csv -- file /Users/micahbryant/PythonProjects/ValorantAgentPredictor/Agents/Agents_rank26_episode7_act2_mapicebox.csv does not exist\n",
      "DataPipeline::load_csv -- file /Users/micahbryant/PythonProjects/ValorantAgentPredictor/Agents/Agents_rank26_episode7_act2_mapbreeze.csv does not exist\n",
      "DataPipeline::load_csv -- file /Users/micahbryant/PythonProjects/ValorantAgentPredictor/Agents/Agents_rank26_episode7_act2_mapbind.csv does not exist\n",
      "DataPipeline::load_csv -- file /Users/micahbryant/PythonProjects/ValorantAgentPredictor/Agents/Agents_rank26_episode7_act2_mapfracture.csv does not exist\n",
      "DataPipeline::load_csv -- file /Users/micahbryant/PythonProjects/ValorantAgentPredictor/Agents/Agents_rank26_episode7_act2_mappearl.csv does not exist\n",
      "DataPipeline::load_csv -- file /Users/micahbryant/PythonProjects/ValorantAgentPredictor/Agents/Agents_rank26_episode7_act2_maplotus.csv does not exist\n",
      "DataPipeline::load_csv -- file /Users/micahbryant/PythonProjects/ValorantAgentPredictor/Agents/Agents_rank26_episode7_act3_mapsplit.csv does not exist\n",
      "DataPipeline::load_csv -- file /Users/micahbryant/PythonProjects/ValorantAgentPredictor/Agents/Agents_rank26_episode7_act3_mapascent.csv does not exist\n",
      "DataPipeline::load_csv -- file /Users/micahbryant/PythonProjects/ValorantAgentPredictor/Agents/Agents_rank26_episode7_act3_maphaven.csv does not exist\n",
      "DataPipeline::load_csv -- file /Users/micahbryant/PythonProjects/ValorantAgentPredictor/Agents/Agents_rank26_episode7_act3_mapicebox.csv does not exist\n",
      "DataPipeline::load_csv -- file /Users/micahbryant/PythonProjects/ValorantAgentPredictor/Agents/Agents_rank26_episode7_act3_mapbreeze.csv does not exist\n",
      "DataPipeline::load_csv -- file /Users/micahbryant/PythonProjects/ValorantAgentPredictor/Agents/Agents_rank26_episode7_act3_mapbind.csv does not exist\n",
      "DataPipeline::load_csv -- file /Users/micahbryant/PythonProjects/ValorantAgentPredictor/Agents/Agents_rank26_episode7_act3_mapfracture.csv does not exist\n",
      "DataPipeline::load_csv -- file /Users/micahbryant/PythonProjects/ValorantAgentPredictor/Agents/Agents_rank26_episode7_act3_mappearl.csv does not exist\n",
      "DataPipeline::load_csv -- file /Users/micahbryant/PythonProjects/ValorantAgentPredictor/Agents/Agents_rank26_episode7_act3_maplotus.csv does not exist\n",
      "DataPipeline::load_csv -- file /Users/micahbryant/PythonProjects/ValorantAgentPredictor/Agents/Agents_rank27_episode6_act1_mapbreeze.csv does not exist\n",
      "DataPipeline::load_csv -- file /Users/micahbryant/PythonProjects/ValorantAgentPredictor/Agents/Agents_rank27_episode6_act1_mapbind.csv does not exist\n",
      "DataPipeline::load_csv -- file /Users/micahbryant/PythonProjects/ValorantAgentPredictor/Agents/Agents_rank27_episode6_act2_mapbreeze.csv does not exist\n",
      "DataPipeline::load_csv -- file /Users/micahbryant/PythonProjects/ValorantAgentPredictor/Agents/Agents_rank27_episode6_act2_mapbind.csv does not exist\n",
      "DataPipeline::load_csv -- file /Users/micahbryant/PythonProjects/ValorantAgentPredictor/Agents/Agents_rank27_episode6_act3_mapicebox.csv does not exist\n",
      "DataPipeline::load_csv -- file /Users/micahbryant/PythonProjects/ValorantAgentPredictor/Agents/Agents_rank27_episode6_act3_mapbreeze.csv does not exist\n",
      "DataPipeline::load_csv -- file /Users/micahbryant/PythonProjects/ValorantAgentPredictor/Agents/Agents_rank27_episode7_act1_mapicebox.csv does not exist\n",
      "DataPipeline::load_csv -- file /Users/micahbryant/PythonProjects/ValorantAgentPredictor/Agents/Agents_rank27_episode7_act1_mapbreeze.csv does not exist\n",
      "DataPipeline::load_csv -- file /Users/micahbryant/PythonProjects/ValorantAgentPredictor/Agents/Agents_rank27_episode7_act2_mapsplit.csv does not exist\n",
      "DataPipeline::load_csv -- file /Users/micahbryant/PythonProjects/ValorantAgentPredictor/Agents/Agents_rank27_episode7_act2_mapascent.csv does not exist\n",
      "DataPipeline::load_csv -- file /Users/micahbryant/PythonProjects/ValorantAgentPredictor/Agents/Agents_rank27_episode7_act2_maphaven.csv does not exist\n",
      "DataPipeline::load_csv -- file /Users/micahbryant/PythonProjects/ValorantAgentPredictor/Agents/Agents_rank27_episode7_act2_mapicebox.csv does not exist\n",
      "DataPipeline::load_csv -- file /Users/micahbryant/PythonProjects/ValorantAgentPredictor/Agents/Agents_rank27_episode7_act2_mapbreeze.csv does not exist\n",
      "DataPipeline::load_csv -- file /Users/micahbryant/PythonProjects/ValorantAgentPredictor/Agents/Agents_rank27_episode7_act2_mapbind.csv does not exist\n",
      "DataPipeline::load_csv -- file /Users/micahbryant/PythonProjects/ValorantAgentPredictor/Agents/Agents_rank27_episode7_act2_mapfracture.csv does not exist\n",
      "DataPipeline::load_csv -- file /Users/micahbryant/PythonProjects/ValorantAgentPredictor/Agents/Agents_rank27_episode7_act2_mappearl.csv does not exist\n",
      "DataPipeline::load_csv -- file /Users/micahbryant/PythonProjects/ValorantAgentPredictor/Agents/Agents_rank27_episode7_act2_maplotus.csv does not exist\n",
      "DataPipeline::load_csv -- file /Users/micahbryant/PythonProjects/ValorantAgentPredictor/Agents/Agents_rank27_episode7_act3_mapsplit.csv does not exist\n",
      "DataPipeline::load_csv -- file /Users/micahbryant/PythonProjects/ValorantAgentPredictor/Agents/Agents_rank27_episode7_act3_mapascent.csv does not exist\n",
      "DataPipeline::load_csv -- file /Users/micahbryant/PythonProjects/ValorantAgentPredictor/Agents/Agents_rank27_episode7_act3_maphaven.csv does not exist\n",
      "DataPipeline::load_csv -- file /Users/micahbryant/PythonProjects/ValorantAgentPredictor/Agents/Agents_rank27_episode7_act3_mapicebox.csv does not exist\n",
      "DataPipeline::load_csv -- file /Users/micahbryant/PythonProjects/ValorantAgentPredictor/Agents/Agents_rank27_episode7_act3_mapbreeze.csv does not exist\n",
      "DataPipeline::load_csv -- file /Users/micahbryant/PythonProjects/ValorantAgentPredictor/Agents/Agents_rank27_episode7_act3_mapbind.csv does not exist\n",
      "DataPipeline::load_csv -- file /Users/micahbryant/PythonProjects/ValorantAgentPredictor/Agents/Agents_rank27_episode7_act3_mapfracture.csv does not exist\n",
      "DataPipeline::load_csv -- file /Users/micahbryant/PythonProjects/ValorantAgentPredictor/Agents/Agents_rank27_episode7_act3_mappearl.csv does not exist\n",
      "DataPipeline::load_csv -- file /Users/micahbryant/PythonProjects/ValorantAgentPredictor/Agents/Agents_rank27_episode7_act3_maplotus.csv does not exist\n"
     ]
    }
   ],
   "source": [
    "pipeline = DataPipeline()\n",
    "dataset = pipeline.import_data(load_params=config['data_import_parameters'], agent_maps=True)"
   ]
  },
  {
   "cell_type": "code",
   "execution_count": null,
   "metadata": {},
   "outputs": [],
   "source": []
  },
  {
   "cell_type": "code",
   "execution_count": 25,
   "metadata": {},
   "outputs": [
    {
     "name": "stdout",
     "output_type": "stream",
     "text": [
      "       Agent       Roles \n",
      "0        Raze     Duelist\n",
      "1        Sage    Sentinel\n",
      "2        Jett     Duelist\n",
      "3        Omen  Controller\n",
      "4        Skye   Initiator\n",
      "5       Reyna     Duelist\n",
      "6     Killjoy    Sentinel\n",
      "7      Cypher    Sentinel\n",
      "8       Astra  Controller\n",
      "9      Breach   Initiator\n",
      "10  Brimstone  Controller\n",
      "11      KAY/O   Initiator\n",
      "12       Fade   Initiator\n",
      "13    Phoenix     Duelist\n",
      "14    Chamber    Sentinel\n",
      "15      Viper  Controller\n",
      "16       Sova   Initiator\n",
      "17       Yoru     Duelist\n",
      "18       Neon     Duelist\n",
      "19     Harbor  Controller\n"
     ]
    }
   ],
   "source": [
    "# print(dataset)\n",
    "roles = []\n",
    "data = next(iter(dataset.values()))\n",
    "for data_key in dataset:\n",
    "    for agent in data[data_key]['Agent ']:\n",
    "        roles.append(agent_to_role[agent])\n",
    "# print(roles)\n",
    "data['Roles '] = roles\n",
    "print(data[['Agent ', 'Roles ']])"
   ]
  },
  {
   "cell_type": "code",
   "execution_count": 15,
   "metadata": {},
   "outputs": [
    {
     "name": "stdout",
     "output_type": "stream",
     "text": [
      "       Agent  Win %  Matches \n",
      "0        Raze  48.6%    2,658\n",
      "1        Sage  51.7%    2,530\n",
      "2        Jett  49.6%    2,353\n",
      "3        Omen  47.1%    2,056\n",
      "4        Skye  49.2%    1,664\n",
      "5       Reyna  49.5%    1,312\n",
      "6     Killjoy  54.0%    1,185\n",
      "7      Cypher  47.2%    1,179\n",
      "8       Astra  45.9%      960\n",
      "9      Breach  45.6%      531\n",
      "10  Brimstone  50.2%      486\n",
      "11      KAY/O  46.8%      470\n",
      "12       Fade  49.9%      423\n",
      "13    Phoenix  49.8%      263\n",
      "14    Chamber  48.7%      263\n",
      "15      Viper  46.0%      176\n",
      "16       Sova  65.8%      117\n",
      "17       Yoru  46.4%      112\n",
      "18       Neon  51.4%      109\n",
      "19     Harbor  39.6%       48\n"
     ]
    }
   ],
   "source": [
    "print(dataset['rank25_episode6_act1_mapsplit'][['Agent ','Win % ', 'Matches ']])"
   ]
  },
  {
   "cell_type": "code",
   "execution_count": 13,
   "metadata": {},
   "outputs": [
    {
     "name": "stdout",
     "output_type": "stream",
     "text": [
      "Index(['Unnamed: 0', 'Rank ', 'Agent ', 'KD ', 'KDA ', 'Win % ', 'Pick % ',\n",
      "       'Avg. Score ', 'First Blood % ', 'Matches '],\n",
      "      dtype='object')\n"
     ]
    }
   ],
   "source": [
    "print(dataset['rank25_episode6_act1_mapsplit'].columns)"
   ]
  },
  {
   "cell_type": "code",
   "execution_count": null,
   "metadata": {},
   "outputs": [],
   "source": []
  }
 ],
 "metadata": {
  "kernelspec": {
   "display_name": "VAP_env",
   "language": "python",
   "name": "python3"
  },
  "language_info": {
   "codemirror_mode": {
    "name": "ipython",
    "version": 3
   },
   "file_extension": ".py",
   "mimetype": "text/x-python",
   "name": "python",
   "nbconvert_exporter": "python",
   "pygments_lexer": "ipython3",
   "version": "3.9.13"
  },
  "orig_nbformat": 4
 },
 "nbformat": 4,
 "nbformat_minor": 2
}
